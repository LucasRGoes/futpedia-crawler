{
 "cells": [
  {
   "cell_type": "markdown",
   "metadata": {},
   "source": [
    "Scrapedia: Um _web scraper_ da Futpédia\n",
    "=======================================\n",
    "</br>\n",
    "\n",
    "## Documentação\n",
    "1. **RootScraper**\n",
    "    1. *teams()*\n",
    "    2. *championships()*\n",
    "    3. *championship(int)*\n",
    "2. **ChampionshipScraper**\n",
    "    1. *seasons()*\n",
    "    2. *season(int)*\n",
    "3. **SeasonScraper**\n",
    "    1. *games()*"
   ]
  },
  {
   "cell_type": "code",
   "execution_count": 1,
   "metadata": {},
   "outputs": [],
   "source": [
    "from scrapedia import RootScraper"
   ]
  },
  {
   "cell_type": "markdown",
   "metadata": {},
   "source": [
    "## 1. RootScraper\n",
    "\n",
    "O RootScraper é o *scraper* principal do Scrapedia. Ele possui métodos para listagem de times e de campeonatos. Além disso ele oferece métodos para acesso mais detalhado a cada time ou campeonato."
   ]
  },
  {
   "cell_type": "code",
   "execution_count": 2,
   "metadata": {},
   "outputs": [],
   "source": [
    "scraper = RootScraper()"
   ]
  },
  {
   "cell_type": "markdown",
   "metadata": {},
   "source": [
    "### A. teams()\n",
    "Método para listagem de times:"
   ]
  },
  {
   "cell_type": "code",
   "execution_count": 3,
   "metadata": {},
   "outputs": [
    {
     "data": {
      "text/html": [
       "<div>\n",
       "<style scoped>\n",
       "    .dataframe tbody tr th:only-of-type {\n",
       "        vertical-align: middle;\n",
       "    }\n",
       "\n",
       "    .dataframe tbody tr th {\n",
       "        vertical-align: top;\n",
       "    }\n",
       "\n",
       "    .dataframe thead th {\n",
       "        text-align: right;\n",
       "    }\n",
       "</style>\n",
       "<table border=\"1\" class=\"dataframe\">\n",
       "  <thead>\n",
       "    <tr style=\"text-align: right;\">\n",
       "      <th></th>\n",
       "      <th>name</th>\n",
       "      <th>path</th>\n",
       "    </tr>\n",
       "  </thead>\n",
       "  <tbody>\n",
       "    <tr>\n",
       "      <th>0</th>\n",
       "      <td>AA Colatina</td>\n",
       "      <td>/colatina</td>\n",
       "    </tr>\n",
       "    <tr>\n",
       "      <th>1</th>\n",
       "      <td>AA das Palmeiras</td>\n",
       "      <td>/aa-das-palmeiras</td>\n",
       "    </tr>\n",
       "    <tr>\n",
       "      <th>2</th>\n",
       "      <td>AA Internacional</td>\n",
       "      <td>/aa-internacional</td>\n",
       "    </tr>\n",
       "    <tr>\n",
       "      <th>3</th>\n",
       "      <td>ABC</td>\n",
       "      <td>/abc</td>\n",
       "    </tr>\n",
       "    <tr>\n",
       "      <th>4</th>\n",
       "      <td>ADAP</td>\n",
       "      <td>/adap</td>\n",
       "    </tr>\n",
       "  </tbody>\n",
       "</table>\n",
       "</div>"
      ],
      "text/plain": [
       "               name               path\n",
       "0       AA Colatina          /colatina\n",
       "1  AA das Palmeiras  /aa-das-palmeiras\n",
       "2  AA Internacional  /aa-internacional\n",
       "3               ABC               /abc\n",
       "4              ADAP              /adap"
      ]
     },
     "execution_count": 3,
     "metadata": {},
     "output_type": "execute_result"
    }
   ],
   "source": [
    "teams = scraper.teams()\n",
    "teams.head()"
   ]
  },
  {
   "cell_type": "markdown",
   "metadata": {},
   "source": [
    "### B. championships()\n",
    "Método para listagem de campeonatos:"
   ]
  },
  {
   "cell_type": "code",
   "execution_count": 4,
   "metadata": {},
   "outputs": [
    {
     "data": {
      "text/html": [
       "<div>\n",
       "<style scoped>\n",
       "    .dataframe tbody tr th:only-of-type {\n",
       "        vertical-align: middle;\n",
       "    }\n",
       "\n",
       "    .dataframe tbody tr th {\n",
       "        vertical-align: top;\n",
       "    }\n",
       "\n",
       "    .dataframe thead th {\n",
       "        text-align: right;\n",
       "    }\n",
       "</style>\n",
       "<table border=\"1\" class=\"dataframe\">\n",
       "  <thead>\n",
       "    <tr style=\"text-align: right;\">\n",
       "      <th></th>\n",
       "      <th>name</th>\n",
       "      <th>path</th>\n",
       "    </tr>\n",
       "  </thead>\n",
       "  <tbody>\n",
       "    <tr>\n",
       "      <th>0</th>\n",
       "      <td>Campeonato Brasileiro</td>\n",
       "      <td>/campeonato/campeonato-brasileiro</td>\n",
       "    </tr>\n",
       "    <tr>\n",
       "      <th>1</th>\n",
       "      <td>Copa do Brasil</td>\n",
       "      <td>/campeonato/copa-do-brasil</td>\n",
       "    </tr>\n",
       "    <tr>\n",
       "      <th>2</th>\n",
       "      <td>Campeonato Paulista</td>\n",
       "      <td>/campeonato/campeonato-paulista</td>\n",
       "    </tr>\n",
       "    <tr>\n",
       "      <th>3</th>\n",
       "      <td>Campeonato Carioca</td>\n",
       "      <td>/campeonato/campeonato-carioca</td>\n",
       "    </tr>\n",
       "    <tr>\n",
       "      <th>4</th>\n",
       "      <td>Copa do Mundo</td>\n",
       "      <td>/campeonato/copa-do-mundo</td>\n",
       "    </tr>\n",
       "  </tbody>\n",
       "</table>\n",
       "</div>"
      ],
      "text/plain": [
       "                    name                               path\n",
       "0  Campeonato Brasileiro  /campeonato/campeonato-brasileiro\n",
       "1         Copa do Brasil         /campeonato/copa-do-brasil\n",
       "2    Campeonato Paulista    /campeonato/campeonato-paulista\n",
       "3     Campeonato Carioca     /campeonato/campeonato-carioca\n",
       "4          Copa do Mundo          /campeonato/copa-do-mundo"
      ]
     },
     "execution_count": 4,
     "metadata": {},
     "output_type": "execute_result"
    }
   ],
   "source": [
    "championships = scraper.championships()\n",
    "championships.head()"
   ]
  },
  {
   "cell_type": "markdown",
   "metadata": {},
   "source": [
    "### C. championship(int)\n",
    "Método para obtenção de um *scraper* voltado a página de um campeonato específico:"
   ]
  },
  {
   "cell_type": "code",
   "execution_count": 5,
   "metadata": {},
   "outputs": [],
   "source": [
    "championship_scraper = scraper.championship(0)"
   ]
  },
  {
   "cell_type": "markdown",
   "metadata": {},
   "source": [
    "## 2. ChampionshipScraper\n",
    "\n",
    "O ChampionshipScraper é o *scraper* responsável por obter informações relativas as diversas temporadas de cada campeonato.\n",
    "\n",
    "### A. seasons()\n",
    "Método para listagem de temporadas de um campeonato:"
   ]
  },
  {
   "cell_type": "code",
   "execution_count": 6,
   "metadata": {},
   "outputs": [
    {
     "data": {
      "text/html": [
       "<div>\n",
       "<style scoped>\n",
       "    .dataframe tbody tr th:only-of-type {\n",
       "        vertical-align: middle;\n",
       "    }\n",
       "\n",
       "    .dataframe tbody tr th {\n",
       "        vertical-align: top;\n",
       "    }\n",
       "\n",
       "    .dataframe thead th {\n",
       "        text-align: right;\n",
       "    }\n",
       "</style>\n",
       "<table border=\"1\" class=\"dataframe\">\n",
       "  <thead>\n",
       "    <tr style=\"text-align: right;\">\n",
       "      <th></th>\n",
       "      <th>start_date</th>\n",
       "      <th>end_date</th>\n",
       "      <th>number_goals</th>\n",
       "      <th>number_games</th>\n",
       "      <th>path</th>\n",
       "    </tr>\n",
       "  </thead>\n",
       "  <tbody>\n",
       "    <tr>\n",
       "      <th>2017</th>\n",
       "      <td>1.494040e+12</td>\n",
       "      <td>1.512266e+12</td>\n",
       "      <td>923</td>\n",
       "      <td>380</td>\n",
       "      <td>/2017-2017</td>\n",
       "    </tr>\n",
       "    <tr>\n",
       "      <th>2016</th>\n",
       "      <td>1.463195e+12</td>\n",
       "      <td>1.481422e+12</td>\n",
       "      <td>912</td>\n",
       "      <td>380</td>\n",
       "      <td>/2016</td>\n",
       "    </tr>\n",
       "    <tr>\n",
       "      <th>2015</th>\n",
       "      <td>1.431140e+12</td>\n",
       "      <td>1.449367e+12</td>\n",
       "      <td>897</td>\n",
       "      <td>380</td>\n",
       "      <td>/2015</td>\n",
       "    </tr>\n",
       "    <tr>\n",
       "      <th>2014</th>\n",
       "      <td>1.397876e+12</td>\n",
       "      <td>1.417918e+12</td>\n",
       "      <td>860</td>\n",
       "      <td>380</td>\n",
       "      <td>/2014</td>\n",
       "    </tr>\n",
       "    <tr>\n",
       "      <th>2013</th>\n",
       "      <td>1.369451e+12</td>\n",
       "      <td>1.386468e+12</td>\n",
       "      <td>936</td>\n",
       "      <td>380</td>\n",
       "      <td>/2013-2013</td>\n",
       "    </tr>\n",
       "  </tbody>\n",
       "</table>\n",
       "</div>"
      ],
      "text/plain": [
       "        start_date      end_date  number_goals  number_games        path\n",
       "2017  1.494040e+12  1.512266e+12           923           380  /2017-2017\n",
       "2016  1.463195e+12  1.481422e+12           912           380       /2016\n",
       "2015  1.431140e+12  1.449367e+12           897           380       /2015\n",
       "2014  1.397876e+12  1.417918e+12           860           380       /2014\n",
       "2013  1.369451e+12  1.386468e+12           936           380  /2013-2013"
      ]
     },
     "execution_count": 6,
     "metadata": {},
     "output_type": "execute_result"
    }
   ],
   "source": [
    "seasons = championship_scraper.seasons()\n",
    "seasons.head()"
   ]
  },
  {
   "cell_type": "markdown",
   "metadata": {},
   "source": [
    "### B. season(int)\n",
    "Método para obtenção de um *scraper* voltado a página de uma temporada específica:"
   ]
  },
  {
   "cell_type": "code",
   "execution_count": 7,
   "metadata": {},
   "outputs": [],
   "source": [
    "season_scraper = championship_scraper.season(2003)"
   ]
  },
  {
   "cell_type": "markdown",
   "metadata": {},
   "source": [
    "## 3. SeasonScraper\n",
    "\n",
    "O SeasonScraper é o *scraper* responsável por obter informações relativas aos jogos de uma temporada específica de algum campeonato.\n",
    "\n",
    "### A. games()\n",
    "Método para listagem de jogos de uma temporada:"
   ]
  },
  {
   "cell_type": "code",
   "execution_count": 8,
   "metadata": {},
   "outputs": [
    {
     "data": {
      "text/html": [
       "<div>\n",
       "<style scoped>\n",
       "    .dataframe tbody tr th:only-of-type {\n",
       "        vertical-align: middle;\n",
       "    }\n",
       "\n",
       "    .dataframe tbody tr th {\n",
       "        vertical-align: top;\n",
       "    }\n",
       "\n",
       "    .dataframe thead th {\n",
       "        text-align: right;\n",
       "    }\n",
       "</style>\n",
       "<table border=\"1\" class=\"dataframe\">\n",
       "  <thead>\n",
       "    <tr style=\"text-align: right;\">\n",
       "      <th></th>\n",
       "      <th>home_team</th>\n",
       "      <th>home_goals</th>\n",
       "      <th>away_goals</th>\n",
       "      <th>away_team</th>\n",
       "      <th>stadium</th>\n",
       "      <th>phase</th>\n",
       "      <th>round</th>\n",
       "      <th>date</th>\n",
       "      <th>path</th>\n",
       "    </tr>\n",
       "  </thead>\n",
       "  <tbody>\n",
       "    <tr>\n",
       "      <th>0</th>\n",
       "      <td>Guarani</td>\n",
       "      <td>4</td>\n",
       "      <td>2</td>\n",
       "      <td>Vasco</td>\n",
       "      <td>Brinco de Ouro</td>\n",
       "      <td>first_phase</td>\n",
       "      <td>1</td>\n",
       "      <td>1.048964e+12</td>\n",
       "      <td>/campeonato/campeonato-brasileiro/2003/03/29/g...</td>\n",
       "    </tr>\n",
       "    <tr>\n",
       "      <th>1</th>\n",
       "      <td>Athletico-PR</td>\n",
       "      <td>2</td>\n",
       "      <td>0</td>\n",
       "      <td>Grêmio</td>\n",
       "      <td>Arena da Baixada</td>\n",
       "      <td>first_phase</td>\n",
       "      <td>1</td>\n",
       "      <td>1.048964e+12</td>\n",
       "      <td>/campeonato/campeonato-brasileiro/2003/03/29/a...</td>\n",
       "    </tr>\n",
       "    <tr>\n",
       "      <th>2</th>\n",
       "      <td>Flamengo</td>\n",
       "      <td>1</td>\n",
       "      <td>1</td>\n",
       "      <td>Coritiba</td>\n",
       "      <td>Maracanã</td>\n",
       "      <td>first_phase</td>\n",
       "      <td>1</td>\n",
       "      <td>1.049051e+12</td>\n",
       "      <td>/campeonato/campeonato-brasileiro/2003/03/30/f...</td>\n",
       "    </tr>\n",
       "    <tr>\n",
       "      <th>3</th>\n",
       "      <td>Cruzeiro</td>\n",
       "      <td>2</td>\n",
       "      <td>2</td>\n",
       "      <td>São Caetano</td>\n",
       "      <td>Mineirão</td>\n",
       "      <td>first_phase</td>\n",
       "      <td>1</td>\n",
       "      <td>1.049051e+12</td>\n",
       "      <td>/campeonato/campeonato-brasileiro/2003/03/30/c...</td>\n",
       "    </tr>\n",
       "    <tr>\n",
       "      <th>4</th>\n",
       "      <td>Juventude</td>\n",
       "      <td>2</td>\n",
       "      <td>2</td>\n",
       "      <td>São Paulo</td>\n",
       "      <td>Alfredo Jaconi</td>\n",
       "      <td>first_phase</td>\n",
       "      <td>1</td>\n",
       "      <td>1.049051e+12</td>\n",
       "      <td>/campeonato/campeonato-brasileiro/2003/03/30/j...</td>\n",
       "    </tr>\n",
       "  </tbody>\n",
       "</table>\n",
       "</div>"
      ],
      "text/plain": [
       "      home_team  home_goals  away_goals    away_team           stadium  \\\n",
       "0       Guarani           4           2        Vasco    Brinco de Ouro   \n",
       "1  Athletico-PR           2           0       Grêmio  Arena da Baixada   \n",
       "2      Flamengo           1           1     Coritiba          Maracanã   \n",
       "3      Cruzeiro           2           2  São Caetano          Mineirão   \n",
       "4     Juventude           2           2    São Paulo    Alfredo Jaconi   \n",
       "\n",
       "         phase round          date  \\\n",
       "0  first_phase     1  1.048964e+12   \n",
       "1  first_phase     1  1.048964e+12   \n",
       "2  first_phase     1  1.049051e+12   \n",
       "3  first_phase     1  1.049051e+12   \n",
       "4  first_phase     1  1.049051e+12   \n",
       "\n",
       "                                                path  \n",
       "0  /campeonato/campeonato-brasileiro/2003/03/29/g...  \n",
       "1  /campeonato/campeonato-brasileiro/2003/03/29/a...  \n",
       "2  /campeonato/campeonato-brasileiro/2003/03/30/f...  \n",
       "3  /campeonato/campeonato-brasileiro/2003/03/30/c...  \n",
       "4  /campeonato/campeonato-brasileiro/2003/03/30/j...  "
      ]
     },
     "execution_count": 8,
     "metadata": {},
     "output_type": "execute_result"
    }
   ],
   "source": [
    "games = season_scraper.games()\n",
    "games.head()"
   ]
  }
 ],
 "metadata": {
  "kernelspec": {
   "display_name": "scrapedia",
   "language": "python",
   "name": "scrapedia"
  },
  "language_info": {
   "codemirror_mode": {
    "name": "ipython",
    "version": 3
   },
   "file_extension": ".py",
   "mimetype": "text/x-python",
   "name": "python",
   "nbconvert_exporter": "python",
   "pygments_lexer": "ipython3",
   "version": "3.6.3"
  }
 },
 "nbformat": 4,
 "nbformat_minor": 2
}
